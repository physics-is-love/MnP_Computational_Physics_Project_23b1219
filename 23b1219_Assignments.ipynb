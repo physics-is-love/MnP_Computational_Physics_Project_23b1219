{
 "cells": [
  {
   "cell_type": "markdown",
   "metadata": {},
   "source": [
    "# **Basic Python**"
   ]
  },
  {
   "cell_type": "markdown",
   "metadata": {},
   "source": [
    "## 1.a \n",
    "Give a function F that takes a single argument n. This function should print a sequence of n strings as described in the examples below: <br>\n",
    "Ex: **n = 3**\n",
    "\n",
    "--A--<br>\n",
    "-BAB-<br>\n",
    "CBABC<br>\n",
    "\n",
    "**n = 4**\n",
    "\n",
    "---A---<br>\n",
    "--BAB--<br>\n",
    "-CBABC-<br>\n",
    "DCBABCD"
   ]
  },
  {
   "cell_type": "code",
   "execution_count": 3,
   "metadata": {},
   "outputs": [
    {
     "name": "stdout",
     "output_type": "stream",
     "text": [
      "---------A---------\n",
      "--------BAB--------\n",
      "-------CBABC-------\n",
      "------DCBABCD------\n",
      "-----EDCBABCDE-----\n",
      "----FEDCBABCDEF----\n",
      "---GFEDCBABCDEFG---\n",
      "--HGFEDCBABCDEFGH--\n",
      "-IHGFEDCBABCDEFGHI-\n",
      "JIHGFEDCBABCDEFGHIJ\n",
      "-----A-----\n",
      "----BAB----\n",
      "---CBABC---\n",
      "--DCBABCD--\n",
      "-EDCBABCDE-\n",
      "FEDCBABCDEF\n"
     ]
    }
   ],
   "source": [
    "def F(n):\n",
    "    for i in range(n):\n",
    "        pad = '-' * (n - i - 1)\n",
    "        letter = \"\"\n",
    "        for j in range(2 * i + 1):\n",
    "            letter += chr(65 + abs(j - i))\n",
    "        line = pad + letter + pad\n",
    "        print(line)\n",
    "\n",
    "\n",
    "# Tests\n",
    "F(10)\n",
    "F(6)"
   ]
  },
  {
   "cell_type": "markdown",
   "metadata": {},
   "source": [
    "## 1.b\n",
    "Make a function F that takes only one argument, a dictionary(dict) d.\n",
    "The keys of d are integers and the values of d are a tuple of type (x (int), y (int)).\n",
    "You must print out the dict in the format \"-key-, -x-, -y-\" with each entry in a new line. Print it for each of the three sorted orders, by key values ascending, by x values descending, by y values ascending."
   ]
  },
  {
   "cell_type": "code",
   "execution_count": 6,
   "metadata": {},
   "outputs": [
    {
     "name": "stdout",
     "output_type": "stream",
     "text": [
      "Sorted by key values (ascending):\n",
      "-1-, -1-, -2-\n",
      "-2-, --1-, -4-\n",
      "-4-, -2-, -3-\n",
      "-5-, --4-, -3-\n",
      "Sorted by x values (descending):\n",
      "-4-, -2-, -3-\n",
      "-1-, -1-, -2-\n",
      "-2-, --1-, -4-\n",
      "-5-, --4-, -3-\n",
      "Sorted by y values (ascending):\n",
      "-1-, -1-, -2-\n",
      "-5-, --4-, -3-\n",
      "-4-, -2-, -3-\n",
      "-2-, --1-, -4-\n",
      "Sorted by key values (ascending):\n",
      "--8-, -4-, -2-\n",
      "-5-, -9-, --10-\n",
      "-6-, --3-, -4-\n",
      "-7-, -2-, -1-\n",
      "Sorted by x values (descending):\n",
      "-5-, -9-, --10-\n",
      "--8-, -4-, -2-\n",
      "-7-, -2-, -1-\n",
      "-6-, --3-, -4-\n",
      "Sorted by y values (ascending):\n",
      "-5-, -9-, --10-\n",
      "-7-, -2-, -1-\n",
      "--8-, -4-, -2-\n",
      "-6-, --3-, -4-\n"
     ]
    }
   ],
   "source": [
    "def F(d : dict):\n",
    "    print(\"Sorted by key values (ascending):\")\n",
    "    for key, (x, y) in sorted(d.items(), key=lambda item: item[0]):  \n",
    "        print(f\"-{key}-, -{x}-, -{y}-\")\n",
    "    \n",
    "    print(\"Sorted by x values (descending):\")\n",
    "    for key, (x, y) in sorted(d.items(), key=lambda item: -item[1][0]):\n",
    "        print(f\"-{key}-, -{x}-, -{y}-\")\n",
    "    \n",
    "    print(\"Sorted by y values (ascending):\")\n",
    "    for key, (x, y) in sorted(d.items(), key=lambda item: item[1][1]):\n",
    "        print(f\"-{key}-, -{x}-, -{y}-\")\n",
    "\n",
    "# Tests\n",
    "F({1 : (1, 2), 2 : (-1, 4), 5 : (-4, 3), 4 : (2, 3)})\n",
    "F({-8 : (4, 2), 6 : (-3, 4), 7 : (2, 1), 5 : (9, -10)})"
   ]
  },
  {
   "cell_type": "markdown",
   "metadata": {},
   "source": [
    "## 2 Working with Student Records\n",
    "\n",
    "Use the data in **student_records.csv** to complete the given tasks. Do not include any external libraries. Use a Python dictionary if required.\n",
    "\n",
    "### Reference\n",
    "- [Python Dictionaries](https://www.w3schools.com/python/python_dictionaries.asp)\n"
   ]
  },
  {
   "cell_type": "code",
   "execution_count": 8,
   "metadata": {},
   "outputs": [],
   "source": [
    "def read_csv(file_path):\n",
    "    with open(file_path, \"r\") as f:\n",
    "        header = f.readline().strip().split(\",\")\n",
    "        rows = [dict(zip(header, line.strip().split(\",\"))) for line in f]\n",
    "    return rows\n",
    "\n",
    "def grade_to_points(grade):\n",
    "    grade_map = {\"AP\": 10, \"AA\": 10, \"AB\": 9, \"BB\": 8, \"BC\": 7, \"CC\": 6}\n",
    "    return grade_map.get(grade, 0)\n",
    "\n",
    "def print_first_10_rows(records):\n",
    "    print(\"First 10 rows of the student records:\")\n",
    "    for row in records[:10]:\n",
    "        print(row)\n",
    "\n",
    "def calculate_total_credits_and_cpi(records):\n",
    "    student_data = {}\n",
    "    for record in records:\n",
    "        roll = record[\"roll_number\"]\n",
    "        credit = int(record[\"credit\"])\n",
    "        course_type = record[\"course_type\"]\n",
    "        grade_points = grade_to_points(record[\"grade\"])\n",
    "\n",
    "        if roll not in student_data:\n",
    "            student_data[roll] = {\"total_credits\": 0, \"core_weighted_sum\": 0, \"core_credits\": 0}\n",
    "\n",
    "        student_data[roll][\"total_credits\"] += credit\n",
    "        if course_type == \"core\":\n",
    "            student_data[roll][\"core_weighted_sum\"] += credit * grade_points\n",
    "            student_data[roll][\"core_credits\"] += credit\n",
    "\n",
    "    for roll, data in student_data.items():\n",
    "        if data[\"core_credits\"] > 0:\n",
    "            data[\"CPI\"] = data[\"core_weighted_sum\"] / data[\"core_credits\"]\n",
    "        else:\n",
    "            data[\"CPI\"] = 0\n",
    "\n",
    "    for roll, data in student_data.items():\n",
    "        print(f\"Roll Number: {roll}, Total Credits: {data['total_credits']}, CPI: {data['CPI']:.2f}\")\n",
    "\n",
    "def find_graduating_students(records):\n",
    "    graduation_requirements = {\n",
    "        \"core\": 20,\n",
    "        \"department_elective\": 15,\n",
    "        \"flexible_elective\": 10,\n",
    "        \"hasmed_elective\": 5,\n",
    "    }\n",
    "\n",
    "    student_credits = {}\n",
    "    for record in records:\n",
    "        roll = record[\"roll_number\"]\n",
    "        credit = int(record[\"credit\"])\n",
    "        course_type = record[\"course_type\"]\n",
    "\n",
    "        if roll not in student_credits:\n",
    "            student_credits[roll] = {ctype: 0 for ctype in graduation_requirements}\n",
    "\n",
    "        if course_type in graduation_requirements:\n",
    "            student_credits[roll][course_type] += credit\n",
    "\n",
    "    graduating_students = []\n",
    "    for roll, credits in student_credits.items():\n",
    "        if all(credits[ctype] >= req for ctype, req in graduation_requirements.items()):\n",
    "            graduating_students.append(roll)\n",
    "\n",
    "    print(\"Graduating Students:\")\n",
    "    for roll in graduating_students:\n",
    "        print(roll)\n",
    "\n",
    "def find_minor_students(records):\n",
    "    minor_threshold = 10\n",
    "    minor_credits = {}\n",
    "\n",
    "    for record in records:\n",
    "        roll = record[\"roll_number\"]\n",
    "        credit = int(record[\"credit\"])\n",
    "        course_type = record[\"course_type\"]\n",
    "        department = record[\"course_name\"][:2]\n",
    "\n",
    "        if course_type == \"minor\":\n",
    "            if roll not in minor_credits:\n",
    "                minor_credits[roll] = {}\n",
    "            if department not in minor_credits[roll]:\n",
    "                minor_credits[roll][department] = 0\n",
    "\n",
    "            minor_credits[roll][department] += credit\n",
    "\n",
    "    minor_students = []\n",
    "    for roll, departments in minor_credits.items():\n",
    "        if any(credits >= minor_threshold for credits in departments.values()):\n",
    "            minor_students.append(roll)\n",
    "\n",
    "    print(\"Students completing a minor:\")\n",
    "    for roll in minor_students:\n",
    "        print(roll)\n",
    "\n",
    "def find_honours_students(records):\n",
    "    honours_credits = 10\n",
    "    core_credits = 20\n",
    "    student_credits = {}\n",
    "\n",
    "    for record in records:\n",
    "        roll = record[\"roll_number\"]\n",
    "        credit = int(record[\"credit\"])\n",
    "        course_type = record[\"course_type\"]\n",
    "\n",
    "        if roll not in student_credits:\n",
    "            student_credits[roll] = {\"honours\": 0, \"core\": 0}\n",
    "\n",
    "        if course_type == \"honours\":\n",
    "            student_credits[roll][\"honours\"] += credit\n",
    "        if course_type == \"core\":\n",
    "            student_credits[roll][\"core\"] += credit\n",
    "\n",
    "    honours_students = [\n",
    "        roll for roll, credits in student_credits.items()\n",
    "        if credits[\"honours\"] >= honours_credits and credits[\"core\"] >= core_credits\n",
    "    ]\n",
    "\n",
    "    print(\"Students completing honours:\")\n",
    "    for roll in honours_students:\n",
    "        print(roll)\n",
    "\n",
    "file_path = \"student_records.csv\"\n",
    "records = read_csv(file_path)"
   ]
  },
  {
   "cell_type": "markdown",
   "metadata": {},
   "source": [
    "#### 2.a: open the student_records.csv file and print out the first 10 rows"
   ]
  },
  {
   "cell_type": "code",
   "execution_count": 9,
   "metadata": {},
   "outputs": [
    {
     "name": "stdout",
     "output_type": "stream",
     "text": [
      "First 10 rows of the student records:\n",
      "{'roll_number': '588946', 'department': 'MA', 'credit': '3', 'course_name': 'EC250', 'course_type': 'hasmed_elective', 'grade': 'AB'}\n",
      "{'roll_number': '145372', 'department': 'EP', 'credit': '4', 'course_name': 'EP407', 'course_type': 'hasmed_elective', 'grade': 'CC'}\n",
      "{'roll_number': '834515', 'department': 'MA', 'credit': '8', 'course_name': 'EP885', 'course_type': 'hasmed_elective', 'grade': 'BB'}\n",
      "{'roll_number': '344265', 'department': 'CSE', 'credit': '6', 'course_name': 'CSE699', 'course_type': 'honours', 'grade': 'AB'}\n",
      "{'roll_number': '358405', 'department': 'MA', 'credit': '3', 'course_name': 'EE460', 'course_type': 'minor', 'grade': 'AP'}\n",
      "{'roll_number': '781075', 'department': 'CE', 'credit': '8', 'course_name': 'CE540', 'course_type': 'honours', 'grade': 'CC'}\n",
      "{'roll_number': '180828', 'department': 'CSE', 'credit': '6', 'course_name': 'CE880', 'course_type': 'minor', 'grade': 'AB'}\n",
      "{'roll_number': '981238', 'department': 'MM', 'credit': '4', 'course_name': 'CSE226', 'course_type': 'minor', 'grade': 'AB'}\n",
      "{'roll_number': '836881', 'department': 'MM', 'credit': '8', 'course_name': 'MM530', 'course_type': 'core', 'grade': 'AA'}\n",
      "{'roll_number': '310604', 'department': 'EE', 'credit': '8', 'course_name': 'EE202', 'course_type': 'core', 'grade': 'AB'}\n"
     ]
    }
   ],
   "source": [
    "print_first_10_rows(records)"
   ]
  },
  {
   "cell_type": "markdown",
   "metadata": {},
   "source": [
    "#### 2.b: Print out the total credits and calculte CPI of each student. \n",
    "CPI is the weighted average of core courses, and electives (weights being the letter grades converted to number AP,AA=10, AB=9, BB=8, BC=7, CC=6)"
   ]
  },
  {
   "cell_type": "code",
   "execution_count": 10,
   "metadata": {},
   "outputs": [
    {
     "name": "stdout",
     "output_type": "stream",
     "text": [
      "Roll Number: 588946, Total Credits: 199, CPI: 8.38\n",
      "Roll Number: 145372, Total Credits: 173, CPI: 8.60\n",
      "Roll Number: 834515, Total Credits: 199, CPI: 8.20\n",
      "Roll Number: 344265, Total Credits: 153, CPI: 6.73\n",
      "Roll Number: 358405, Total Credits: 206, CPI: 8.87\n",
      "Roll Number: 781075, Total Credits: 246, CPI: 8.67\n",
      "Roll Number: 180828, Total Credits: 177, CPI: 8.07\n",
      "Roll Number: 981238, Total Credits: 168, CPI: 8.56\n",
      "Roll Number: 836881, Total Credits: 246, CPI: 7.83\n",
      "Roll Number: 310604, Total Credits: 198, CPI: 8.31\n",
      "Roll Number: 847809, Total Credits: 261, CPI: 7.27\n",
      "Roll Number: 773982, Total Credits: 264, CPI: 8.25\n",
      "Roll Number: 500658, Total Credits: 208, CPI: 8.59\n",
      "Roll Number: 810863, Total Credits: 192, CPI: 8.09\n",
      "Roll Number: 124663, Total Credits: 229, CPI: 8.26\n",
      "Roll Number: 364146, Total Credits: 225, CPI: 8.86\n",
      "Roll Number: 871746, Total Credits: 216, CPI: 8.06\n",
      "Roll Number: 270007, Total Credits: 241, CPI: 7.18\n",
      "Roll Number: 597353, Total Credits: 200, CPI: 6.80\n",
      "Roll Number: 986057, Total Credits: 199, CPI: 8.45\n",
      "Roll Number: 718510, Total Credits: 184, CPI: 9.13\n",
      "Roll Number: 836431, Total Credits: 160, CPI: 8.29\n",
      "Roll Number: 379479, Total Credits: 260, CPI: 8.22\n",
      "Roll Number: 582912, Total Credits: 221, CPI: 8.27\n",
      "Roll Number: 788020, Total Credits: 193, CPI: 8.03\n",
      "Roll Number: 613401, Total Credits: 209, CPI: 8.97\n",
      "Roll Number: 144528, Total Credits: 228, CPI: 9.38\n",
      "Roll Number: 485484, Total Credits: 216, CPI: 8.19\n",
      "Roll Number: 680096, Total Credits: 153, CPI: 7.60\n",
      "Roll Number: 199713, Total Credits: 172, CPI: 8.03\n",
      "Roll Number: 851029, Total Credits: 161, CPI: 7.75\n",
      "Roll Number: 845623, Total Credits: 237, CPI: 8.54\n",
      "Roll Number: 150503, Total Credits: 173, CPI: 8.51\n",
      "Roll Number: 214270, Total Credits: 229, CPI: 9.00\n",
      "Roll Number: 517837, Total Credits: 205, CPI: 7.93\n",
      "Roll Number: 482623, Total Credits: 254, CPI: 7.57\n",
      "Roll Number: 721490, Total Credits: 235, CPI: 8.75\n",
      "Roll Number: 955757, Total Credits: 251, CPI: 8.08\n",
      "Roll Number: 589528, Total Credits: 153, CPI: 9.17\n",
      "Roll Number: 143856, Total Credits: 201, CPI: 8.81\n",
      "Roll Number: 571782, Total Credits: 217, CPI: 8.26\n",
      "Roll Number: 973158, Total Credits: 193, CPI: 7.27\n",
      "Roll Number: 703403, Total Credits: 254, CPI: 7.78\n",
      "Roll Number: 960395, Total Credits: 262, CPI: 8.88\n",
      "Roll Number: 521087, Total Credits: 223, CPI: 6.73\n",
      "Roll Number: 461971, Total Credits: 252, CPI: 7.52\n",
      "Roll Number: 879634, Total Credits: 203, CPI: 7.64\n",
      "Roll Number: 716985, Total Credits: 185, CPI: 7.13\n",
      "Roll Number: 194063, Total Credits: 157, CPI: 6.43\n",
      "Roll Number: 265922, Total Credits: 236, CPI: 8.00\n",
      "Roll Number: 283796, Total Credits: 211, CPI: 9.11\n",
      "Roll Number: 203200, Total Credits: 157, CPI: 8.70\n",
      "Roll Number: 301135, Total Credits: 206, CPI: 6.63\n",
      "Roll Number: 327122, Total Credits: 246, CPI: 8.85\n",
      "Roll Number: 381526, Total Credits: 160, CPI: 8.62\n",
      "Roll Number: 534763, Total Credits: 158, CPI: 7.39\n",
      "Roll Number: 391848, Total Credits: 217, CPI: 6.91\n",
      "Roll Number: 329535, Total Credits: 157, CPI: 8.04\n",
      "Roll Number: 971123, Total Credits: 210, CPI: 7.68\n",
      "Roll Number: 207443, Total Credits: 161, CPI: 8.38\n",
      "Roll Number: 488661, Total Credits: 248, CPI: 9.19\n",
      "Roll Number: 782129, Total Credits: 184, CPI: 8.65\n",
      "Roll Number: 928288, Total Credits: 191, CPI: 8.75\n",
      "Roll Number: 581858, Total Credits: 216, CPI: 8.60\n",
      "Roll Number: 733782, Total Credits: 169, CPI: 8.79\n",
      "Roll Number: 282482, Total Credits: 228, CPI: 7.89\n",
      "Roll Number: 572815, Total Credits: 212, CPI: 9.46\n",
      "Roll Number: 608952, Total Credits: 251, CPI: 8.00\n",
      "Roll Number: 628849, Total Credits: 183, CPI: 9.76\n",
      "Roll Number: 630568, Total Credits: 217, CPI: 9.71\n",
      "Roll Number: 388969, Total Credits: 229, CPI: 7.95\n",
      "Roll Number: 159438, Total Credits: 176, CPI: 9.14\n",
      "Roll Number: 478606, Total Credits: 244, CPI: 9.18\n",
      "Roll Number: 995208, Total Credits: 157, CPI: 8.10\n",
      "Roll Number: 841365, Total Credits: 177, CPI: 10.00\n",
      "Roll Number: 870642, Total Credits: 161, CPI: 8.31\n",
      "Roll Number: 970791, Total Credits: 220, CPI: 8.41\n",
      "Roll Number: 143142, Total Credits: 234, CPI: 7.54\n",
      "Roll Number: 998293, Total Credits: 207, CPI: 9.62\n",
      "Roll Number: 907454, Total Credits: 245, CPI: 6.75\n",
      "Roll Number: 681499, Total Credits: 234, CPI: 8.47\n",
      "Roll Number: 888886, Total Credits: 207, CPI: 9.28\n",
      "Roll Number: 608522, Total Credits: 159, CPI: 9.00\n",
      "Roll Number: 362471, Total Credits: 214, CPI: 7.18\n",
      "Roll Number: 465496, Total Credits: 168, CPI: 9.68\n",
      "Roll Number: 208100, Total Credits: 182, CPI: 8.16\n",
      "Roll Number: 138296, Total Credits: 200, CPI: 7.93\n",
      "Roll Number: 775967, Total Credits: 197, CPI: 10.00\n",
      "Roll Number: 692318, Total Credits: 216, CPI: 7.48\n",
      "Roll Number: 461584, Total Credits: 234, CPI: 10.00\n",
      "Roll Number: 626000, Total Credits: 210, CPI: 8.17\n",
      "Roll Number: 458200, Total Credits: 190, CPI: 8.61\n",
      "Roll Number: 581065, Total Credits: 196, CPI: 8.71\n",
      "Roll Number: 787967, Total Credits: 192, CPI: 8.77\n",
      "Roll Number: 381227, Total Credits: 179, CPI: 8.80\n",
      "Roll Number: 750259, Total Credits: 209, CPI: 7.83\n",
      "Roll Number: 881983, Total Credits: 169, CPI: 7.64\n",
      "Roll Number: 294697, Total Credits: 269, CPI: 8.92\n",
      "Roll Number: 816041, Total Credits: 158, CPI: 7.29\n",
      "Roll Number: 993835, Total Credits: 175, CPI: 9.47\n"
     ]
    }
   ],
   "source": [
    "calculate_total_credits_and_cpi(records)"
   ]
  },
  {
   "cell_type": "markdown",
   "metadata": {},
   "source": [
    "#### 2.c: Print out the roll numbers of all students who meet the graduation requirements \n",
    "Atleast 20 credist of core course, 15 credits of department elective, 10 credits of flexible elective and 5 credits of hasmed electives"
   ]
  },
  {
   "cell_type": "code",
   "execution_count": 11,
   "metadata": {},
   "outputs": [
    {
     "name": "stdout",
     "output_type": "stream",
     "text": [
      "Graduating Students:\n",
      "588946\n",
      "834515\n",
      "781075\n",
      "180828\n",
      "981238\n",
      "836881\n",
      "310604\n",
      "773982\n",
      "500658\n",
      "810863\n",
      "124663\n",
      "871746\n",
      "986057\n",
      "379479\n",
      "144528\n",
      "485484\n",
      "845623\n",
      "150503\n",
      "214270\n",
      "517837\n",
      "482623\n",
      "721490\n",
      "955757\n",
      "143856\n",
      "571782\n",
      "973158\n",
      "703403\n",
      "960395\n",
      "521087\n",
      "461971\n",
      "879634\n",
      "716985\n",
      "265922\n",
      "283796\n",
      "203200\n",
      "327122\n",
      "534763\n",
      "391848\n",
      "971123\n",
      "207443\n",
      "488661\n",
      "782129\n",
      "928288\n",
      "581858\n",
      "282482\n",
      "572815\n",
      "608952\n",
      "628849\n",
      "630568\n",
      "388969\n",
      "159438\n",
      "970791\n",
      "143142\n",
      "998293\n",
      "681499\n",
      "888886\n",
      "608522\n",
      "362471\n",
      "692318\n",
      "626000\n",
      "581065\n",
      "787967\n",
      "381227\n",
      "750259\n",
      "881983\n",
      "294697\n"
     ]
    }
   ],
   "source": [
    "find_graduating_students(records)"
   ]
  },
  {
   "cell_type": "markdown",
   "metadata": {},
   "source": [
    "#### 2.d: Print out the roll numbers of all students who completed a minor \n",
    "Atleast 10 credits with minor tag in a specific department"
   ]
  },
  {
   "cell_type": "code",
   "execution_count": 12,
   "metadata": {},
   "outputs": [
    {
     "name": "stdout",
     "output_type": "stream",
     "text": [
      "Students completing a minor:\n",
      "358405\n",
      "847809\n",
      "781075\n",
      "124663\n",
      "364146\n",
      "721490\n",
      "571782\n",
      "716985\n",
      "482623\n",
      "329535\n",
      "810863\n",
      "973158\n",
      "143142\n",
      "907454\n",
      "888886\n",
      "608952\n",
      "143856\n",
      "773982\n",
      "960395\n",
      "283796\n",
      "461584\n",
      "597353\n",
      "845623\n",
      "465496\n",
      "718510\n",
      "836881\n",
      "344265\n",
      "581858\n",
      "138296\n",
      "381526\n",
      "681499\n",
      "816041\n",
      "971123\n",
      "199713\n",
      "630568\n",
      "379479\n",
      "703403\n",
      "388969\n",
      "836431\n",
      "381227\n",
      "478606\n",
      "159438\n",
      "733782\n",
      "782129\n",
      "144528\n",
      "851029\n",
      "628849\n",
      "995208\n",
      "613401\n",
      "301135\n",
      "788020\n",
      "955757\n",
      "572815\n",
      "521087\n",
      "214270\n",
      "461971\n",
      "145372\n",
      "588946\n",
      "581065\n",
      "993835\n"
     ]
    }
   ],
   "source": [
    "find_minor_students(records)"
   ]
  },
  {
   "cell_type": "markdown",
   "metadata": {},
   "source": [
    "#### 2.e: Print out the roll numbers of all students who completed a honours\n",
    "Atleast 10 credits with honours tag and 20 core credits"
   ]
  },
  {
   "cell_type": "code",
   "execution_count": 13,
   "metadata": {},
   "outputs": [
    {
     "name": "stdout",
     "output_type": "stream",
     "text": [
      "Students completing honours:\n",
      "588946\n",
      "145372\n",
      "834515\n",
      "781075\n",
      "836881\n",
      "310604\n",
      "773982\n",
      "500658\n",
      "810863\n",
      "124663\n",
      "364146\n",
      "871746\n",
      "986057\n",
      "718510\n",
      "379479\n",
      "582912\n",
      "788020\n",
      "613401\n",
      "144528\n",
      "485484\n",
      "199713\n",
      "845623\n",
      "150503\n",
      "214270\n",
      "517837\n",
      "482623\n",
      "721490\n",
      "955757\n",
      "589528\n",
      "143856\n",
      "571782\n",
      "973158\n",
      "703403\n",
      "960395\n",
      "521087\n",
      "461971\n",
      "879634\n",
      "716985\n",
      "265922\n",
      "283796\n",
      "203200\n",
      "327122\n",
      "534763\n",
      "391848\n",
      "971123\n",
      "207443\n",
      "488661\n",
      "782129\n",
      "928288\n",
      "581858\n",
      "282482\n",
      "572815\n",
      "608952\n",
      "628849\n",
      "630568\n",
      "388969\n",
      "159438\n",
      "870642\n",
      "970791\n",
      "143142\n",
      "998293\n",
      "681499\n",
      "888886\n",
      "608522\n",
      "362471\n",
      "465496\n",
      "208100\n",
      "692318\n",
      "626000\n",
      "458200\n",
      "581065\n",
      "787967\n",
      "750259\n",
      "881983\n",
      "294697\n"
     ]
    }
   ],
   "source": [
    "find_honours_students(records)"
   ]
  },
  {
   "cell_type": "markdown",
   "metadata": {},
   "source": [
    "# **SciPy** "
   ]
  },
  {
   "cell_type": "markdown",
   "metadata": {},
   "source": [
    "## Part A\n",
    "Minimize the function $f(x, y) = 2(x - y - 3)^2 + 4(x + 2y + 1)^4$.<br>\n",
    "With the constraints : $ x - y \\ge -3, (x + 2)^2 + (y + 1)^2 \\le 5$ <br>\n",
    "Using scipy.optimize.minimize with constraints. (Hint: Look at the examples in the official documentation)"
   ]
  },
  {
   "cell_type": "code",
   "execution_count": 14,
   "metadata": {},
   "outputs": [
    {
     "name": "stdout",
     "output_type": "stream",
     "text": [
      "Optimal values of x and y: [ 0.23249592 -0.87365923]\n",
      "Minimum value of the function: 8.233465682358581\n",
      "Success: True\n",
      "Message: Optimization terminated successfully\n"
     ]
    }
   ],
   "source": [
    "from scipy.optimize import minimize\n",
    "\n",
    "def objective(vars):\n",
    "    x, y = vars\n",
    "    return 2 * ((x - y - 3)**2) + 4 * ((x + 2*y + 1)**2)\n",
    "\n",
    "def constraint1(vars):\n",
    "    x, y = vars\n",
    "    return x - y + 3  \n",
    "\n",
    "def constraint2(vars):\n",
    "    x, y = vars\n",
    "    return 5 - ((x + 2)**2 + (y + 1)**2)\n",
    "\n",
    "x0 = [0, 0] \n",
    "\n",
    "constraints = [\n",
    "    {\"type\": \"ineq\", \"fun\": constraint1},  \n",
    "    {\"type\": \"ineq\", \"fun\": constraint2},  \n",
    "]\n",
    "\n",
    "result = minimize(objective, x0, constraints=constraints)\n",
    "\n",
    "print(\"Optimal values of x and y:\", result.x)\n",
    "print(\"Minimum value of the function:\", result.fun)\n",
    "print(\"Success:\", result.success)\n",
    "print(\"Message:\", result.message)\n"
   ]
  },
  {
   "cell_type": "markdown",
   "metadata": {},
   "source": [
    "# Part B\n",
    "Evaluate the line integral of the function $f(x, y) = x^2 + y^4$ along the circle $ x^2 + y^2 = 3 $ anticlockwise (scalar integral, not vector). You must use scipy for integration but you may use parameterization"
   ]
  },
  {
   "cell_type": "code",
   "execution_count": 15,
   "metadata": {},
   "outputs": [
    {
     "name": "stdout",
     "output_type": "stream",
     "text": [
      "Value of the line integral: 53.05363140385085\n",
      "Estimated error: 5.3768447472180014e-09\n"
     ]
    }
   ],
   "source": [
    "import numpy as np\n",
    "from scipy.integrate import quad\n",
    "\n",
    "def integrand(t):\n",
    "    x = np.sqrt(3) * np.cos(t)\n",
    "    y = np.sqrt(3) * np.sin(t)\n",
    "    f_xy = x**2 + y**4\n",
    "    return f_xy * np.sqrt(3)\n",
    "\n",
    "result, error = quad(integrand, 0, 2 * np.pi)\n",
    "\n",
    "print(\"Value of the line integral:\", result)\n",
    "print(\"Estimated error:\", error)\n"
   ]
  },
  {
   "cell_type": "markdown",
   "metadata": {},
   "source": [
    "# **Numpy**"
   ]
  },
  {
   "cell_type": "markdown",
   "metadata": {},
   "source": [
    "### Read Lisan_Al_Gaib.pdf for problem description and complete the following functions"
   ]
  },
  {
   "cell_type": "code",
   "execution_count": 16,
   "metadata": {},
   "outputs": [],
   "source": [
    "import time  # to time the execution\n",
    "import numpy as np\n",
    "import matplotlib.pyplot as plt"
   ]
  },
  {
   "cell_type": "code",
   "execution_count": 17,
   "metadata": {},
   "outputs": [],
   "source": [
    "### TODO 1\n",
    "### Load data from data_path\n",
    "### Check the input file spice_locations.txt to understand the Data Format\n",
    "### Return : np array of size Nx2\n",
    "def load_data(data_path):\n",
    "    data = np.loadtxt(data_path, delimiter=',')\n",
    "    return data"
   ]
  },
  {
   "cell_type": "code",
   "execution_count": 18,
   "metadata": {},
   "outputs": [],
   "source": [
    "### TODO 2.1\n",
    "### If init_centers is None, initialize the centers by selecting K data points at random without replacement\n",
    "### Else, use the centers provided in init_centers\n",
    "### Return : np array of size Kx2\n",
    "def initialise_centers(data, K, init_centers=None):\n",
    "    if init_centers is None:\n",
    "        centers = data[np.random.choice(data.shape[0], K, replace=False)]\n",
    "    else:\n",
    "        centers = init_centers\n",
    "    return centers"
   ]
  },
  {
   "cell_type": "code",
   "execution_count": 19,
   "metadata": {},
   "outputs": [],
   "source": [
    "### TODO 2.2\n",
    "### Initialize the labels to all ones to size (N,) where N is the number of data points\n",
    "### Return : np array of size N\n",
    "def initialise_labels(data):\n",
    "    labels = np.zeros(data.shape[0], dtype=int)\n",
    "    return labels"
   ]
  },
  {
   "cell_type": "code",
   "execution_count": 20,
   "metadata": {},
   "outputs": [],
   "source": [
    "### TODO 3.1 : E step\n",
    "### For Each data point, find the distance to each center\n",
    "### Return : np array of size NxK\n",
    "def calculate_distances(data, centers):\n",
    "    distances = np.linalg.norm(data[:, np.newaxis, :] - centers[np.newaxis, :, :], axis=2)\n",
    "    return distances"
   ]
  },
  {
   "cell_type": "code",
   "execution_count": 21,
   "metadata": {},
   "outputs": [],
   "source": [
    "### TODO 3.2 : E step\n",
    "### For Each data point, assign the label of the nearest center\n",
    "### Return : np array of size N\n",
    "def update_labels(distances):\n",
    "    labels = np.argmin(distances, axis=1)\n",
    "    return labels"
   ]
  },
  {
   "cell_type": "code",
   "execution_count": 22,
   "metadata": {},
   "outputs": [],
   "source": [
    "### TODO 4 : M step\n",
    "### Update the centers to the mean of the data points assigned to it\n",
    "### Return : np array of size Kx2\n",
    "def update_centers(data, labels, K):\n",
    "    centers = np.array([data[labels == k].mean(axis=0) if np.any(labels == k) else np.zeros(2) for k in range(K)])\n",
    "    return centers"
   ]
  },
  {
   "cell_type": "code",
   "execution_count": 23,
   "metadata": {},
   "outputs": [],
   "source": [
    "### TODO 6 : Check convergence\n",
    "### Check if the labels have changed from the previous iteration\n",
    "### Return : True / False\n",
    "def check_termination(labels1, labels2):\n",
    "    return np.array_equal(labels1, labels2)"
   ]
  },
  {
   "cell_type": "code",
   "execution_count": 24,
   "metadata": {},
   "outputs": [],
   "source": [
    "### DON'T CHANGE ANYTHING IN THE FOLLOWING FUNCTION\n",
    "def kmeans(data_path:str, K:int, init_centers):\n",
    "    '''\n",
    "    Input :\n",
    "        data (type str): path to the file containing the data\n",
    "        K (type int): number of clusters\n",
    "        init_centers (type numpy.ndarray): initial centers. shape = (K, 2) or None\n",
    "    Output :\n",
    "        centers (type numpy.ndarray): final centers. shape = (K, 2)\n",
    "        labels (type numpy.ndarray): label of each data point. shape = (N,)\n",
    "        time (type float): time taken by the algorithm to converge in seconds\n",
    "    N is the number of data points each of shape (2,)\n",
    "    '''\n",
    "    data = load_data(data_path)    \n",
    "    centers = initialise_centers(data, K, init_centers)\n",
    "    labels = initialise_labels(data)\n",
    "\n",
    "    start_time = time.time() # Time stamp \n",
    "\n",
    "    while True:\n",
    "        distances = calculate_distances(data, centers)\n",
    "        labels_new = update_labels(distances)\n",
    "        centers = update_centers(data, labels_new, K)\n",
    "        if check_termination(labels, labels_new): break\n",
    "        else: labels = labels_new\n",
    " \n",
    "    end_time = time.time() # Time stamp after the algorithm ends\n",
    "    return centers, labels, end_time - start_time "
   ]
  },
  {
   "cell_type": "code",
   "execution_count": 25,
   "metadata": {},
   "outputs": [],
   "source": [
    "### TODO 7\n",
    "def visualise(data_path, labels, centers):\n",
    "    data = load_data(data_path)\n",
    "\n",
    "    # Scatter plot of the data points\n",
    "    plt.scatter(data[:, 0], data[:, 1], c=labels, s=50, cmap='viridis')\n",
    "    plt.scatter(centers[:, 0], centers[:, 1], c='black', s=200, alpha=0.5)\n",
    "\n",
    "    ### Set title as 'K-means clustering'\n",
    "    plt.title('K-means clustering')\n",
    "    ### Set xlabel as 'Longitude'\n",
    "    plt.xlabel('Longitude')\n",
    "    ### Set ylabel as 'Latitude'\n",
    "    plt.ylabel('Latitude')\n",
    "    ### Save the plot as 'kmeans.png'\n",
    "    plt.savefig('kmeans.png')\n",
    "\n",
    "    ## DO NOT CHANGE THE FOLLOWING LINE\n",
    "    return plt"
   ]
  },
  {
   "cell_type": "code",
   "execution_count": 26,
   "metadata": {},
   "outputs": [
    {
     "name": "stdout",
     "output_type": "stream",
     "text": [
      "Time taken for the algorithm to converge: 0.004056215286254883\n"
     ]
    },
    {
     "data": {
      "text/plain": [
       "<module 'matplotlib.pyplot' from 'C:\\\\Users\\\\ariji\\\\anaconda3\\\\Lib\\\\site-packages\\\\matplotlib\\\\pyplot.py'>"
      ]
     },
     "execution_count": 26,
     "metadata": {},
     "output_type": "execute_result"
    },
    {
     "data": {
      "image/png": "[encoded data removed]",
      "text/plain": [
       "<Figure size 640x480 with 1 Axes>"
      ]
     },
     "metadata": {},
     "output_type": "display_data"
    }
   ],
   "source": [
    "### After you have completed the above functions, run the following code to generate the plot\n",
    "data_path = 'spice_locations.txt'\n",
    "K, init_centers = 2, None\n",
    "centers, labels, time_taken = kmeans(data_path, K, init_centers)\n",
    "print('Time taken for the algorithm to converge:', time_taken)\n",
    "visualise(data_path, labels, centers)"
   ]
  },
  {
   "cell_type": "code",
   "execution_count": 27,
   "metadata": {},
   "outputs": [
    {
     "name": "stdout",
     "output_type": "stream",
     "text": [
      "Time taken for the algorithm to converge: 0.0\n"
     ]
    },
    {
     "data": {
      "text/plain": [
       "<module 'matplotlib.pyplot' from 'C:\\\\Users\\\\ariji\\\\anaconda3\\\\Lib\\\\site-packages\\\\matplotlib\\\\pyplot.py'>"
      ]
     },
     "execution_count": 27,
     "metadata": {},
     "output_type": "execute_result"
    },
    {
     "data": {
      "image/png": "[encoded data removed]",
      "text/plain": [
       "<Figure size 640x480 with 1 Axes>"
      ]
     },
     "metadata": {},
     "output_type": "display_data"
    }
   ],
   "source": [
    "### After you have completed the above functions, run the following code to generate the plot\n",
    "data_path = 'spice_locations.txt'\n",
    "K, init_centers = 4, None\n",
    "centers, labels, time_taken = kmeans(data_path, K, init_centers)\n",
    "print('Time taken for the algorithm to converge:', time_taken)\n",
    "visualise(data_path, labels, centers)"
   ]
  },
  {
   "cell_type": "code",
   "execution_count": null,
   "metadata": {},
   "outputs": [],
   "source": []
  }
 ],
 "metadata": {
  "kernelspec": {
   "display_name": "Python 3 (ipykernel)",
   "language": "python",
   "name": "python3"
  },
  "language_info": {
   "codemirror_mode": {
    "name": "ipython",
    "version": 3
   },
   "file_extension": ".py",
   "mimetype": "text/x-python",
   "name": "python",
   "nbconvert_exporter": "python",
   "pygments_lexer": "ipython3",
   "version": "3.12.4"
  }
 },
 "nbformat": 4,
 "nbformat_minor": 4
}
